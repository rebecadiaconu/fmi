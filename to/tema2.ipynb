{
 "nbformat": 4,
 "nbformat_minor": 0,
 "metadata": {
  "colab": {
   "name": "Tema2_Diaconu_Rebeca_333.ipynb",
   "provenance": []
  },
  "kernelspec": {
   "name": "python3",
   "language": "python",
   "display_name": "Python 3"
  }
 },
 "cells": [
  {
   "cell_type": "code",
   "metadata": {
    "colab": {
     "base_uri": "https://localhost:8080/"
    },
    "id": "VxpZemFz6eeb",
    "outputId": "3cc6a961-8342-4b53-db6c-481723db6c58"
   },
   "source": [
    "import numpy as np\r\n",
    "import copy\r\n",
    "from sys import exit\r\n",
    "\r\n",
    "def get_tilda(B, c, k):\r\n",
    "  n = B.shape[0]\r\n",
    "  B_inversat = np.linalg.inv(B)\r\n",
    "  B_tilda = copy.deepcopy(B)\r\n",
    "  B_tilda[:, [k - 1]] = copy.deepcopy(c)\r\n",
    "\r\n",
    "  y = np.dot(B_inversat, c)\r\n",
    "  # print(y)\r\n",
    "  \r\n",
    "  if y[k - 1] == 0.:\r\n",
    "    raise ValueError(\"Matricea BTilda nu este inversabila!\")\r\n",
    "    exit(0)\r\n",
    "  \r\n",
    "  x = np.asarray([0.] * n)\r\n",
    "  for i in range(n):\r\n",
    "    if i == k - 1:\r\n",
    "      x[i] = 1 / y[k - 1]\r\n",
    "    else:\r\n",
    "      x[i] = (- y[i]) / y[k - 1]\r\n",
    "  \r\n",
    "\r\n",
    "  E = np.identity(n)\r\n",
    "  x = x.reshape(3, 1)\r\n",
    "  E[:, [k - 1]] = x\r\n",
    "\r\n",
    "  return np.dot(E, B_inversat)\r\n",
    "\r\n",
    "\r\n",
    "\r\n",
    "B = np.asarray([[1., 0., 0.], [0., 1., 0.], [0., 0., 8.]])\r\n",
    "c = np.asarray([[1.], [4.], [1.]])\r\n",
    "k = 1\r\n",
    "\r\n",
    "Tilda = get_tilda(B, c, k)\r\n",
    "print(\"BTilda: \\n\", Tilda)"
   ],
   "execution_count": 1,
   "outputs": [
    {
     "name": "stdout",
     "output_type": "stream",
     "text": [
      "BTilda: \n",
      " [[ 1.     0.     0.   ]\n",
      " [-4.     1.     0.   ]\n",
      " [-0.125  0.     0.125]]\n"
     ]
    }
   ]
  }
 ]
}